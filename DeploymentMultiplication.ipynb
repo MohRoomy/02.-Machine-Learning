{
 "cells": [
  {
   "cell_type": "code",
   "execution_count": 9,
   "id": "102b5ee4-84be-4c75-b28f-07f64d8ae816",
   "metadata": {},
   "outputs": [
    {
     "name": "stdin",
     "output_type": "stream",
     "text": [
      "Enter your Multiplication Number:  7.5\n"
     ]
    },
    {
     "name": "stdout",
     "output_type": "stream",
     "text": [
      "Prediction: [15.]\n"
     ]
    }
   ],
   "source": [
    "import pandas as pd1\n",
    "import pickle\n",
    "\n",
    "# Load your trained model\n",
    "loaded_model = pickle.load(open(\"multiplebytwo.sav\", \"rb\"))\n",
    "\n",
    "# Get user input\n",
    "answer = float(input(\"Enter your Multiplication Number: \"))\n",
    "\n",
    "# Check if model expects feature names\n",
    "if hasattr(loaded_model, \"feature_names_in_\"):\n",
    "    # Build DataFrame with correct column names\n",
    "    feature_name = loaded_model.feature_names_in_[0]  # adjust if multiple features\n",
    "    X_new = pd1.DataFrame([[answer]], columns=[feature_name])\n",
    "else:\n",
    "    # Model trained without feature names (NumPy array)\n",
    "    X_new = [[answer]]\n",
    "\n",
    "# Predict\n",
    "result = loaded_model.predict(X_new)\n",
    "\n",
    "print(\"Prediction:\", result[0])"
   ]
  },
  {
   "cell_type": "code",
   "execution_count": null,
   "id": "6d10ac81-f5f7-4d48-8d69-e5ac83a4ac1d",
   "metadata": {},
   "outputs": [],
   "source": []
  }
 ],
 "metadata": {
  "kernelspec": {
   "display_name": "Python [conda env:base] *",
   "language": "python",
   "name": "conda-base-py"
  },
  "language_info": {
   "codemirror_mode": {
    "name": "ipython",
    "version": 3
   },
   "file_extension": ".py",
   "mimetype": "text/x-python",
   "name": "python",
   "nbconvert_exporter": "python",
   "pygments_lexer": "ipython3",
   "version": "3.12.7"
  }
 },
 "nbformat": 4,
 "nbformat_minor": 5
}
