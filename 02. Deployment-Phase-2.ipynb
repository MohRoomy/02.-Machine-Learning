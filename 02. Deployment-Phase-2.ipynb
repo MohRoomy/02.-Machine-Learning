{
 "cells": [
  {
   "cell_type": "code",
   "execution_count": 10,
   "id": "f612cdc2-31a8-4695-8bbd-8104d66b196d",
   "metadata": {},
   "outputs": [],
   "source": [
    "import pandas as pd\n",
    "import pickle"
   ]
  },
  {
   "cell_type": "code",
   "execution_count": 12,
   "id": "796e0829-10a4-4106-a350-02826d719fa5",
   "metadata": {},
   "outputs": [
    {
     "name": "stdin",
     "output_type": "stream",
     "text": [
      "Enter your Checking Experience Year:  0\n"
     ]
    },
    {
     "name": "stdout",
     "output_type": "stream",
     "text": [
      "Prediction: [26777.3913412]\n"
     ]
    }
   ],
   "source": [
    "# Load your trained model\n",
    "loaded_model = pickle.load(open(\"finalized_model_linear.sav\", \"rb\"))\n",
    "\n",
    "# Get user input\n",
    "experience = int(input(\"Enter your Checking Experience Year: \"))\n",
    "\n",
    "# Check if model expects feature names\n",
    "if hasattr(loaded_model, \"feature_names_in_\"):\n",
    "    # Build DataFrame with correct column names\n",
    "    feature_name = loaded_model.feature_names_in_[0]  # adjust if multiple features\n",
    "    X_new = pd.DataFrame([[experience]], columns=[feature_name])\n",
    "else:\n",
    "    # Model trained without feature names (NumPy array)\n",
    "    X_new = [[experience]]\n",
    "\n",
    "# Predict\n",
    "result = loaded_model.predict(X_new)\n",
    "\n",
    "print(\"Prediction:\", result[0])"
   ]
  },
  {
   "cell_type": "code",
   "execution_count": null,
   "id": "fbc4c320-624c-44fb-803c-a34e8d1abb7d",
   "metadata": {},
   "outputs": [],
   "source": []
  }
 ],
 "metadata": {
  "kernelspec": {
   "display_name": "Python [conda env:base] *",
   "language": "python",
   "name": "conda-base-py"
  },
  "language_info": {
   "codemirror_mode": {
    "name": "ipython",
    "version": 3
   },
   "file_extension": ".py",
   "mimetype": "text/x-python",
   "name": "python",
   "nbconvert_exporter": "python",
   "pygments_lexer": "ipython3",
   "version": "3.12.7"
  }
 },
 "nbformat": 4,
 "nbformat_minor": 5
}
